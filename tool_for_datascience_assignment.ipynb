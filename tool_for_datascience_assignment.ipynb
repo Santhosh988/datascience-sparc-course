{
 "cells": [
  {
   "cell_type": "markdown",
   "id": "cc7deadd-2f86-4d8c-8cca-255e4f9d6136",
   "metadata": {
    "tags": []
   },
   "source": [
    "# Tools for Data Science > Week 6 > Assignment"
   ]
  },
  {
   "cell_type": "markdown",
   "id": "807724fc-1b71-4326-8194-7229c08b4ad0",
   "metadata": {
    "tags": []
   },
   "source": [
    "### This notebook contains markdown or code related to exercises from the assignment. There are a total of 12 exercises in this assignment and they are :\n",
    "- Exercise 2 : Create a markdown cell with the title of the notebook. (1 pt)\n",
    "- Exercise 3 : Create a markdown cell for an introduction. (1 pt)\n",
    "- Exercise 4 : Create a markdown cell to list data science languages. (3 pts)\n",
    "- Exercise 5 : Create a markdown cell to list data science libraries. (3 pts)\n",
    "- Exercise 6 : Create a markdown cell with a table of Data Science tools. (3 pts)\n",
    "- Exercise 7 : Create a markdown cell introducing arithmetic expression examples. (1 pt)\n",
    "- Exercise 8 : Create a code cell to multiply and add numbers. (2 pts)\n",
    "- Exercise 9 : Create a code cell to convert minutes to hours. (2 pts)\n",
    "- Exercise 10 :Insert a markdown cell to list Objectives. (3 pts)\n",
    "- Exercise 11 : Create a markdown cell to indicate the Author’s name. (2 pts)\n",
    "- Exercise 12 : Share your notebook through GitHub (3 pts)\n",
    "- Exercise 13 : Take a screenshot of the first page of the notebook. (1 pt)"
   ]
  },
  {
   "cell_type": "markdown",
   "id": "e7109d79-dc9a-47d2-ba3a-42fdc9e70c9d",
   "metadata": {
    "tags": []
   },
   "source": [
    "### Exercise 4 - Create a markdown cell to list data science languages. (3 pts)\n",
    "Some of the popular languages that Data Scientists use are:\n",
    "\n",
    "- Python\n",
    "- R\n",
    "- C++\n",
    "- Java\n",
    "- Apache Spark\n",
    "- Scala"
   ]
  },
  {
   "cell_type": "markdown",
   "id": "5048a47a-dead-4704-9450-ab384cec109f",
   "metadata": {
    "tags": []
   },
   "source": [
    "### Exercise 5 - Create a markdown cell to list data science libraries. (3 pts)\n",
    "##### Some of the popular python libraries are\n",
    "- pandas\n",
    "- numpy\n",
    "- seaborn\n",
    "- scikit-learn\n",
    "- pyplot\n",
    "\n",
    "##### Some of the popular R libraries are \n",
    "- ggplot2\n",
    "- dplyr"
   ]
  },
  {
   "cell_type": "markdown",
   "id": "4a1f2a5f-76b2-4a22-924c-aab5498dba2d",
   "metadata": {},
   "source": [
    "### Exercise 6 - Create a markdown cell with a table of Data Science tools. (3 pts)\n",
    "|Data Management|Data Integration and Transformation|Data Visualization|Model Building|Model Deployment|Model Monitoring|\n",
    "|---------------|-----------------------------------|-----------------|--------------|----------------|----------------|\n",
    "|MYSql|Apache Airflow|Hue|Apache Pyspark|Apache SparkML|Apache SparkML|\n",
    "|CouchDB|Apache SparkSQL||Jupyter||IBM AI Explainability 360|\n",
    "|PostgreSQL|\n",
    "|MongoDB|"
   ]
  },
  {
   "cell_type": "markdown",
   "id": "dad9e09a-56b4-4178-907a-168795eb7abc",
   "metadata": {
    "tags": []
   },
   "source": [
    "### Exercise 7 - Create a markdown cell introducing arithmetic expression examples. (1 pt)"
   ]
  },
  {
   "cell_type": "code",
   "execution_count": 4,
   "id": "3463332e-2ae2-4e03-861d-d580e1109cd2",
   "metadata": {
    "tags": []
   },
   "outputs": [
    {
     "data": {
      "text/plain": [
       "11.9"
      ]
     },
     "execution_count": 4,
     "metadata": {},
     "output_type": "execute_result"
    }
   ],
   "source": [
    "2+(3-4)*10/100%10"
   ]
  },
  {
   "cell_type": "markdown",
   "id": "a4e5a20b-a218-4db6-a788-d0382ab826fb",
   "metadata": {},
   "source": [
    "### Exercise 8 - Create a markdown cell introducing arithmetic expression examples. (1 pt)"
   ]
  },
  {
   "cell_type": "code",
   "execution_count": 5,
   "id": "de3ae87a-57a6-48d5-a9fd-ca3ae2c02826",
   "metadata": {
    "tags": []
   },
   "outputs": [
    {
     "data": {
      "text/plain": [
       "10000000000000000000000000000010000"
      ]
     },
     "execution_count": 5,
     "metadata": {},
     "output_type": "execute_result"
    }
   ],
   "source": [
    "(1000000000000000*10000000000000000000)+(1000*10)"
   ]
  },
  {
   "cell_type": "markdown",
   "id": "e72ef6d3-686a-4345-8d9c-e76a50aa9e05",
   "metadata": {
    "tags": []
   },
   "source": [
    "### Exercise 9 - Create a code cell to convert minutes to hours. (2 pts)"
   ]
  },
  {
   "cell_type": "code",
   "execution_count": 18,
   "id": "94e1c396-f85e-41f9-b3ae-2cd0ece3fbd3",
   "metadata": {
    "tags": []
   },
   "outputs": [
    {
     "name": "stdin",
     "output_type": "stream",
     "text": [
      "Enter minutes: 1999\n"
     ]
    },
    {
     "name": "stdout",
     "output_type": "stream",
     "text": [
      "1999 is equal to 33 hrs\n"
     ]
    }
   ],
   "source": [
    "min = input(\"Enter minutes:\")\n",
    "hrs = int(min) / 60\n",
    "print(int(min) , \"is equal to\" , int(hrs) , \"hrs\")"
   ]
  },
  {
   "cell_type": "markdown",
   "id": "955d37fc-e857-448b-8785-4718812a12a3",
   "metadata": {
    "tags": []
   },
   "source": [
    "### Exercise 10 -Insert a markdown cell to list Objectives. (3 pts)\n",
    "- Exercise 2 : Create a markdown cell with the title of the notebook. (1 pt)\n",
    "- Exercise 3 : Create a markdown cell for an introduction. (1 pt)\n",
    "- Exercise 4 : Create a markdown cell to list data science languages. (3 pts)\n",
    "- Exercise 5 : Create a markdown cell to list data science libraries. (3 pts)\n",
    "- Exercise 6 : Create a markdown cell with a table of Data Science tools. (3 pts)\n",
    "- Exercise 7 : Create a markdown cell introducing arithmetic expression examples. (1 pt)\n",
    "- Exercise 8 : Create a code cell to multiply and add numbers. (2 pts)\n",
    "- Exercise 9 : Create a code cell to convert minutes to hours. (2 pts)\n",
    "- Exercise 10 :Insert a markdown cell to list Objectives. (3 pts)\n",
    "- Exercise 11 : Create a markdown cell to indicate the Author’s name. (2 pts)\n",
    "- Exercise 12 : Share your notebook through GitHub (3 pts)\n",
    "- Exercise 13 : Take a screenshot of the first page of the notebook. (1 pt)"
   ]
  },
  {
   "cell_type": "markdown",
   "id": "e831f89b-1acb-4be8-abd5-6788d1cadbb7",
   "metadata": {},
   "source": [
    "# Author Name\n",
    "Santhoshnath Guntur"
   ]
  },
  {
   "cell_type": "code",
   "execution_count": null,
   "id": "769b3771-c641-4ffe-8348-7e7dc2b15b31",
   "metadata": {},
   "outputs": [],
   "source": []
  },
  {
   "cell_type": "code",
   "execution_count": null,
   "id": "431ffeb8-0916-49c8-8ea5-f2203f747b6a",
   "metadata": {},
   "outputs": [],
   "source": [
    "### Exercise 12 : Share your notebook through GitHub (3 pts)"
   ]
  },
  {
   "cell_type": "code",
   "execution_count": null,
   "id": "0b911e13-f2dd-45cf-b01a-db6466b764de",
   "metadata": {},
   "outputs": [],
   "source": []
  },
  {
   "cell_type": "code",
   "execution_count": 19,
   "id": "635eac19-2fac-48e2-9f2a-d59ad952dd96",
   "metadata": {
    "tags": []
   },
   "outputs": [],
   "source": [
    "### Exercise 13 - Take a screenshot of the first page of the notebook. (1 pt)"
   ]
  }
 ],
 "metadata": {
  "kernelspec": {
   "display_name": "Python",
   "language": "python",
   "name": "conda-env-python-py"
  },
  "language_info": {
   "codemirror_mode": {
    "name": "ipython",
    "version": 3
   },
   "file_extension": ".py",
   "mimetype": "text/x-python",
   "name": "python",
   "nbconvert_exporter": "python",
   "pygments_lexer": "ipython3",
   "version": "3.7.12"
  }
 },
 "nbformat": 4,
 "nbformat_minor": 5
}
